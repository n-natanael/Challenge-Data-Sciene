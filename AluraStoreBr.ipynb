{
  "nbformat": 4,
  "nbformat_minor": 0,
  "metadata": {
    "colab": {
      "provenance": [],
      "include_colab_link": true
    },
    "kernelspec": {
      "name": "python3",
      "display_name": "Python 3"
    },
    "language_info": {
      "name": "python"
    }
  },
  "cells": [
    {
      "cell_type": "markdown",
      "metadata": {
        "id": "view-in-github",
        "colab_type": "text"
      },
      "source": [
        "<a href=\"https://colab.research.google.com/github/n-natanael/Challenge-Data-Sciene/blob/main/AluraStoreBr.ipynb\" target=\"_parent\"><img src=\"https://colab.research.google.com/assets/colab-badge.svg\" alt=\"Open In Colab\"/></a>"
      ]
    },
    {
      "cell_type": "markdown",
      "source": [
        "### Importação dos dados\n",
        "\n"
      ],
      "metadata": {
        "id": "RhEdWd9YUR6H"
      }
    },
    {
      "cell_type": "code",
      "execution_count": 4,
      "metadata": {
        "colab": {
          "base_uri": "https://localhost:8080/",
          "height": 365
        },
        "id": "T3EvaeQ_INIL",
        "outputId": "5024599d-2e88-4a4f-9b7f-80396f8965f6"
      },
      "outputs": [
        {
          "output_type": "execute_result",
          "data": {
            "text/plain": [
              "                 Produto Categoria do Produto    Preço      Frete  \\\n",
              "0     Assistente virtual          eletronicos   219.08   9.249790   \n",
              "1         Mesa de jantar               moveis   256.35  11.234305   \n",
              "2      Jogo de tabuleiro           brinquedos   279.51  21.262681   \n",
              "3            Micro-ondas     eletrodomesticos  1009.99  54.667344   \n",
              "4  Cadeira de escritório               moveis   446.99  26.964689   \n",
              "\n",
              "  Data da Compra        Vendedor Local da compra  Avaliação da compra  \\\n",
              "0     16/01/2021     Pedro Gomes              SP                    4   \n",
              "1     18/05/2022  Beatriz Moraes              RJ                    1   \n",
              "2     15/03/2021      João Souza              DF                    1   \n",
              "3     03/05/2022      João Souza              RS                    4   \n",
              "4     07/11/2020   Larissa Alves              MG                    5   \n",
              "\n",
              "  Tipo de pagamento  Quantidade de parcelas    lat    lon  \n",
              "0    cartao_credito                       8 -22.19 -48.79  \n",
              "1    cartao_credito                       4 -22.25 -42.66  \n",
              "2    cartao_credito                       1 -15.83 -47.86  \n",
              "3            boleto                       1 -30.17 -53.50  \n",
              "4            boleto                       1 -18.10 -44.38  "
            ],
            "text/html": [
              "\n",
              "  <div id=\"df-1e8db32c-b4d0-41e7-b50f-22a2f3b024eb\" class=\"colab-df-container\">\n",
              "    <div>\n",
              "<style scoped>\n",
              "    .dataframe tbody tr th:only-of-type {\n",
              "        vertical-align: middle;\n",
              "    }\n",
              "\n",
              "    .dataframe tbody tr th {\n",
              "        vertical-align: top;\n",
              "    }\n",
              "\n",
              "    .dataframe thead th {\n",
              "        text-align: right;\n",
              "    }\n",
              "</style>\n",
              "<table border=\"1\" class=\"dataframe\">\n",
              "  <thead>\n",
              "    <tr style=\"text-align: right;\">\n",
              "      <th></th>\n",
              "      <th>Produto</th>\n",
              "      <th>Categoria do Produto</th>\n",
              "      <th>Preço</th>\n",
              "      <th>Frete</th>\n",
              "      <th>Data da Compra</th>\n",
              "      <th>Vendedor</th>\n",
              "      <th>Local da compra</th>\n",
              "      <th>Avaliação da compra</th>\n",
              "      <th>Tipo de pagamento</th>\n",
              "      <th>Quantidade de parcelas</th>\n",
              "      <th>lat</th>\n",
              "      <th>lon</th>\n",
              "    </tr>\n",
              "  </thead>\n",
              "  <tbody>\n",
              "    <tr>\n",
              "      <th>0</th>\n",
              "      <td>Assistente virtual</td>\n",
              "      <td>eletronicos</td>\n",
              "      <td>219.08</td>\n",
              "      <td>9.249790</td>\n",
              "      <td>16/01/2021</td>\n",
              "      <td>Pedro Gomes</td>\n",
              "      <td>SP</td>\n",
              "      <td>4</td>\n",
              "      <td>cartao_credito</td>\n",
              "      <td>8</td>\n",
              "      <td>-22.19</td>\n",
              "      <td>-48.79</td>\n",
              "    </tr>\n",
              "    <tr>\n",
              "      <th>1</th>\n",
              "      <td>Mesa de jantar</td>\n",
              "      <td>moveis</td>\n",
              "      <td>256.35</td>\n",
              "      <td>11.234305</td>\n",
              "      <td>18/05/2022</td>\n",
              "      <td>Beatriz Moraes</td>\n",
              "      <td>RJ</td>\n",
              "      <td>1</td>\n",
              "      <td>cartao_credito</td>\n",
              "      <td>4</td>\n",
              "      <td>-22.25</td>\n",
              "      <td>-42.66</td>\n",
              "    </tr>\n",
              "    <tr>\n",
              "      <th>2</th>\n",
              "      <td>Jogo de tabuleiro</td>\n",
              "      <td>brinquedos</td>\n",
              "      <td>279.51</td>\n",
              "      <td>21.262681</td>\n",
              "      <td>15/03/2021</td>\n",
              "      <td>João Souza</td>\n",
              "      <td>DF</td>\n",
              "      <td>1</td>\n",
              "      <td>cartao_credito</td>\n",
              "      <td>1</td>\n",
              "      <td>-15.83</td>\n",
              "      <td>-47.86</td>\n",
              "    </tr>\n",
              "    <tr>\n",
              "      <th>3</th>\n",
              "      <td>Micro-ondas</td>\n",
              "      <td>eletrodomesticos</td>\n",
              "      <td>1009.99</td>\n",
              "      <td>54.667344</td>\n",
              "      <td>03/05/2022</td>\n",
              "      <td>João Souza</td>\n",
              "      <td>RS</td>\n",
              "      <td>4</td>\n",
              "      <td>boleto</td>\n",
              "      <td>1</td>\n",
              "      <td>-30.17</td>\n",
              "      <td>-53.50</td>\n",
              "    </tr>\n",
              "    <tr>\n",
              "      <th>4</th>\n",
              "      <td>Cadeira de escritório</td>\n",
              "      <td>moveis</td>\n",
              "      <td>446.99</td>\n",
              "      <td>26.964689</td>\n",
              "      <td>07/11/2020</td>\n",
              "      <td>Larissa Alves</td>\n",
              "      <td>MG</td>\n",
              "      <td>5</td>\n",
              "      <td>boleto</td>\n",
              "      <td>1</td>\n",
              "      <td>-18.10</td>\n",
              "      <td>-44.38</td>\n",
              "    </tr>\n",
              "  </tbody>\n",
              "</table>\n",
              "</div>\n",
              "    <div class=\"colab-df-buttons\">\n",
              "\n",
              "  <div class=\"colab-df-container\">\n",
              "    <button class=\"colab-df-convert\" onclick=\"convertToInteractive('df-1e8db32c-b4d0-41e7-b50f-22a2f3b024eb')\"\n",
              "            title=\"Convert this dataframe to an interactive table.\"\n",
              "            style=\"display:none;\">\n",
              "\n",
              "  <svg xmlns=\"http://www.w3.org/2000/svg\" height=\"24px\" viewBox=\"0 -960 960 960\">\n",
              "    <path d=\"M120-120v-720h720v720H120Zm60-500h600v-160H180v160Zm220 220h160v-160H400v160Zm0 220h160v-160H400v160ZM180-400h160v-160H180v160Zm440 0h160v-160H620v160ZM180-180h160v-160H180v160Zm440 0h160v-160H620v160Z\"/>\n",
              "  </svg>\n",
              "    </button>\n",
              "\n",
              "  <style>\n",
              "    .colab-df-container {\n",
              "      display:flex;\n",
              "      gap: 12px;\n",
              "    }\n",
              "\n",
              "    .colab-df-convert {\n",
              "      background-color: #E8F0FE;\n",
              "      border: none;\n",
              "      border-radius: 50%;\n",
              "      cursor: pointer;\n",
              "      display: none;\n",
              "      fill: #1967D2;\n",
              "      height: 32px;\n",
              "      padding: 0 0 0 0;\n",
              "      width: 32px;\n",
              "    }\n",
              "\n",
              "    .colab-df-convert:hover {\n",
              "      background-color: #E2EBFA;\n",
              "      box-shadow: 0px 1px 2px rgba(60, 64, 67, 0.3), 0px 1px 3px 1px rgba(60, 64, 67, 0.15);\n",
              "      fill: #174EA6;\n",
              "    }\n",
              "\n",
              "    .colab-df-buttons div {\n",
              "      margin-bottom: 4px;\n",
              "    }\n",
              "\n",
              "    [theme=dark] .colab-df-convert {\n",
              "      background-color: #3B4455;\n",
              "      fill: #D2E3FC;\n",
              "    }\n",
              "\n",
              "    [theme=dark] .colab-df-convert:hover {\n",
              "      background-color: #434B5C;\n",
              "      box-shadow: 0px 1px 3px 1px rgba(0, 0, 0, 0.15);\n",
              "      filter: drop-shadow(0px 1px 2px rgba(0, 0, 0, 0.3));\n",
              "      fill: #FFFFFF;\n",
              "    }\n",
              "  </style>\n",
              "\n",
              "    <script>\n",
              "      const buttonEl =\n",
              "        document.querySelector('#df-1e8db32c-b4d0-41e7-b50f-22a2f3b024eb button.colab-df-convert');\n",
              "      buttonEl.style.display =\n",
              "        google.colab.kernel.accessAllowed ? 'block' : 'none';\n",
              "\n",
              "      async function convertToInteractive(key) {\n",
              "        const element = document.querySelector('#df-1e8db32c-b4d0-41e7-b50f-22a2f3b024eb');\n",
              "        const dataTable =\n",
              "          await google.colab.kernel.invokeFunction('convertToInteractive',\n",
              "                                                    [key], {});\n",
              "        if (!dataTable) return;\n",
              "\n",
              "        const docLinkHtml = 'Like what you see? Visit the ' +\n",
              "          '<a target=\"_blank\" href=https://colab.research.google.com/notebooks/data_table.ipynb>data table notebook</a>'\n",
              "          + ' to learn more about interactive tables.';\n",
              "        element.innerHTML = '';\n",
              "        dataTable['output_type'] = 'display_data';\n",
              "        await google.colab.output.renderOutput(dataTable, element);\n",
              "        const docLink = document.createElement('div');\n",
              "        docLink.innerHTML = docLinkHtml;\n",
              "        element.appendChild(docLink);\n",
              "      }\n",
              "    </script>\n",
              "  </div>\n",
              "\n",
              "\n",
              "    <div id=\"df-98e1525f-4e31-433e-b981-adb6c16fa6ea\">\n",
              "      <button class=\"colab-df-quickchart\" onclick=\"quickchart('df-98e1525f-4e31-433e-b981-adb6c16fa6ea')\"\n",
              "                title=\"Suggest charts\"\n",
              "                style=\"display:none;\">\n",
              "\n",
              "<svg xmlns=\"http://www.w3.org/2000/svg\" height=\"24px\"viewBox=\"0 0 24 24\"\n",
              "     width=\"24px\">\n",
              "    <g>\n",
              "        <path d=\"M19 3H5c-1.1 0-2 .9-2 2v14c0 1.1.9 2 2 2h14c1.1 0 2-.9 2-2V5c0-1.1-.9-2-2-2zM9 17H7v-7h2v7zm4 0h-2V7h2v10zm4 0h-2v-4h2v4z\"/>\n",
              "    </g>\n",
              "</svg>\n",
              "      </button>\n",
              "\n",
              "<style>\n",
              "  .colab-df-quickchart {\n",
              "      --bg-color: #E8F0FE;\n",
              "      --fill-color: #1967D2;\n",
              "      --hover-bg-color: #E2EBFA;\n",
              "      --hover-fill-color: #174EA6;\n",
              "      --disabled-fill-color: #AAA;\n",
              "      --disabled-bg-color: #DDD;\n",
              "  }\n",
              "\n",
              "  [theme=dark] .colab-df-quickchart {\n",
              "      --bg-color: #3B4455;\n",
              "      --fill-color: #D2E3FC;\n",
              "      --hover-bg-color: #434B5C;\n",
              "      --hover-fill-color: #FFFFFF;\n",
              "      --disabled-bg-color: #3B4455;\n",
              "      --disabled-fill-color: #666;\n",
              "  }\n",
              "\n",
              "  .colab-df-quickchart {\n",
              "    background-color: var(--bg-color);\n",
              "    border: none;\n",
              "    border-radius: 50%;\n",
              "    cursor: pointer;\n",
              "    display: none;\n",
              "    fill: var(--fill-color);\n",
              "    height: 32px;\n",
              "    padding: 0;\n",
              "    width: 32px;\n",
              "  }\n",
              "\n",
              "  .colab-df-quickchart:hover {\n",
              "    background-color: var(--hover-bg-color);\n",
              "    box-shadow: 0 1px 2px rgba(60, 64, 67, 0.3), 0 1px 3px 1px rgba(60, 64, 67, 0.15);\n",
              "    fill: var(--button-hover-fill-color);\n",
              "  }\n",
              "\n",
              "  .colab-df-quickchart-complete:disabled,\n",
              "  .colab-df-quickchart-complete:disabled:hover {\n",
              "    background-color: var(--disabled-bg-color);\n",
              "    fill: var(--disabled-fill-color);\n",
              "    box-shadow: none;\n",
              "  }\n",
              "\n",
              "  .colab-df-spinner {\n",
              "    border: 2px solid var(--fill-color);\n",
              "    border-color: transparent;\n",
              "    border-bottom-color: var(--fill-color);\n",
              "    animation:\n",
              "      spin 1s steps(1) infinite;\n",
              "  }\n",
              "\n",
              "  @keyframes spin {\n",
              "    0% {\n",
              "      border-color: transparent;\n",
              "      border-bottom-color: var(--fill-color);\n",
              "      border-left-color: var(--fill-color);\n",
              "    }\n",
              "    20% {\n",
              "      border-color: transparent;\n",
              "      border-left-color: var(--fill-color);\n",
              "      border-top-color: var(--fill-color);\n",
              "    }\n",
              "    30% {\n",
              "      border-color: transparent;\n",
              "      border-left-color: var(--fill-color);\n",
              "      border-top-color: var(--fill-color);\n",
              "      border-right-color: var(--fill-color);\n",
              "    }\n",
              "    40% {\n",
              "      border-color: transparent;\n",
              "      border-right-color: var(--fill-color);\n",
              "      border-top-color: var(--fill-color);\n",
              "    }\n",
              "    60% {\n",
              "      border-color: transparent;\n",
              "      border-right-color: var(--fill-color);\n",
              "    }\n",
              "    80% {\n",
              "      border-color: transparent;\n",
              "      border-right-color: var(--fill-color);\n",
              "      border-bottom-color: var(--fill-color);\n",
              "    }\n",
              "    90% {\n",
              "      border-color: transparent;\n",
              "      border-bottom-color: var(--fill-color);\n",
              "    }\n",
              "  }\n",
              "</style>\n",
              "\n",
              "      <script>\n",
              "        async function quickchart(key) {\n",
              "          const quickchartButtonEl =\n",
              "            document.querySelector('#' + key + ' button');\n",
              "          quickchartButtonEl.disabled = true;  // To prevent multiple clicks.\n",
              "          quickchartButtonEl.classList.add('colab-df-spinner');\n",
              "          try {\n",
              "            const charts = await google.colab.kernel.invokeFunction(\n",
              "                'suggestCharts', [key], {});\n",
              "          } catch (error) {\n",
              "            console.error('Error during call to suggestCharts:', error);\n",
              "          }\n",
              "          quickchartButtonEl.classList.remove('colab-df-spinner');\n",
              "          quickchartButtonEl.classList.add('colab-df-quickchart-complete');\n",
              "        }\n",
              "        (() => {\n",
              "          let quickchartButtonEl =\n",
              "            document.querySelector('#df-98e1525f-4e31-433e-b981-adb6c16fa6ea button');\n",
              "          quickchartButtonEl.style.display =\n",
              "            google.colab.kernel.accessAllowed ? 'block' : 'none';\n",
              "        })();\n",
              "      </script>\n",
              "    </div>\n",
              "\n",
              "    </div>\n",
              "  </div>\n"
            ],
            "application/vnd.google.colaboratory.intrinsic+json": {
              "type": "dataframe",
              "variable_name": "loja",
              "summary": "{\n  \"name\": \"loja\",\n  \"rows\": 2359,\n  \"fields\": [\n    {\n      \"column\": \"Produto\",\n      \"properties\": {\n        \"dtype\": \"category\",\n        \"num_unique_values\": 51,\n        \"samples\": [\n          \"Viol\\u00e3o\",\n          \"Bola de basquete\",\n          \"Smartwatch\"\n        ],\n        \"semantic_type\": \"\",\n        \"description\": \"\"\n      }\n    },\n    {\n      \"column\": \"Categoria do Produto\",\n      \"properties\": {\n        \"dtype\": \"category\",\n        \"num_unique_values\": 8,\n        \"samples\": [\n          \"moveis\",\n          \"esporte e lazer\",\n          \"eletronicos\"\n        ],\n        \"semantic_type\": \"\",\n        \"description\": \"\"\n      }\n    },\n    {\n      \"column\": \"Pre\\u00e7o\",\n      \"properties\": {\n        \"dtype\": \"number\",\n        \"std\": 819.5827782539145,\n        \"min\": 10.07,\n        \"max\": 3969.38,\n        \"num_unique_values\": 2315,\n        \"samples\": [\n          446.11,\n          107.31,\n          65.86\n        ],\n        \"semantic_type\": \"\",\n        \"description\": \"\"\n      }\n    },\n    {\n      \"column\": \"Frete\",\n      \"properties\": {\n        \"dtype\": \"number\",\n        \"std\": 43.814183327408166,\n        \"min\": 0.0,\n        \"max\": 214.3770604781,\n        \"num_unique_values\": 2149,\n        \"samples\": [\n          83.815279607,\n          16.069664669,\n          14.0344876928\n        ],\n        \"semantic_type\": \"\",\n        \"description\": \"\"\n      }\n    },\n    {\n      \"column\": \"Data da Compra\",\n      \"properties\": {\n        \"dtype\": \"object\",\n        \"num_unique_values\": 1018,\n        \"samples\": [\n          \"15/09/2022\",\n          \"03/06/2020\",\n          \"06/11/2021\"\n        ],\n        \"semantic_type\": \"\",\n        \"description\": \"\"\n      }\n    },\n    {\n      \"column\": \"Vendedor\",\n      \"properties\": {\n        \"dtype\": \"category\",\n        \"num_unique_values\": 14,\n        \"samples\": [\n          \"Juliana Costa\",\n          \"Mariana Ferreira\",\n          \"Pedro Gomes\"\n        ],\n        \"semantic_type\": \"\",\n        \"description\": \"\"\n      }\n    },\n    {\n      \"column\": \"Local da compra\",\n      \"properties\": {\n        \"dtype\": \"category\",\n        \"num_unique_values\": 26,\n        \"samples\": [\n          \"TO\",\n          \"RN\",\n          \"SP\"\n        ],\n        \"semantic_type\": \"\",\n        \"description\": \"\"\n      }\n    },\n    {\n      \"column\": \"Avalia\\u00e7\\u00e3o da compra\",\n      \"properties\": {\n        \"dtype\": \"number\",\n        \"std\": 1,\n        \"min\": 1,\n        \"max\": 5,\n        \"num_unique_values\": 5,\n        \"samples\": [\n          1,\n          2,\n          5\n        ],\n        \"semantic_type\": \"\",\n        \"description\": \"\"\n      }\n    },\n    {\n      \"column\": \"Tipo de pagamento\",\n      \"properties\": {\n        \"dtype\": \"category\",\n        \"num_unique_values\": 4,\n        \"samples\": [\n          \"boleto\",\n          \"cartao_debito\",\n          \"cartao_credito\"\n        ],\n        \"semantic_type\": \"\",\n        \"description\": \"\"\n      }\n    },\n    {\n      \"column\": \"Quantidade de parcelas\",\n      \"properties\": {\n        \"dtype\": \"number\",\n        \"std\": 2,\n        \"min\": 1,\n        \"max\": 24,\n        \"num_unique_values\": 15,\n        \"samples\": [\n          7,\n          14,\n          8\n        ],\n        \"semantic_type\": \"\",\n        \"description\": \"\"\n      }\n    },\n    {\n      \"column\": \"lat\",\n      \"properties\": {\n        \"dtype\": \"number\",\n        \"std\": 5.372399916530833,\n        \"min\": -30.17,\n        \"max\": 1.41,\n        \"num_unique_values\": 26,\n        \"samples\": [\n          -9.46,\n          -5.81,\n          -22.19\n        ],\n        \"semantic_type\": \"\",\n        \"description\": \"\"\n      }\n    },\n    {\n      \"column\": \"lon\",\n      \"properties\": {\n        \"dtype\": \"number\",\n        \"std\": 4.183180020544179,\n        \"min\": -70.55,\n        \"max\": -36.59,\n        \"num_unique_values\": 26,\n        \"samples\": [\n          -48.26,\n          -36.59,\n          -48.79\n        ],\n        \"semantic_type\": \"\",\n        \"description\": \"\"\n      }\n    }\n  ]\n}"
            }
          },
          "metadata": {},
          "execution_count": 4
        }
      ],
      "source": [
        "import pandas as pd\n",
        "\n",
        "url = \"https://raw.githubusercontent.com/alura-es-cursos/challenge1-data-science/refs/heads/main/base-de-dados-challenge-1/loja_1.csv\"\n",
        "url2 = \"https://raw.githubusercontent.com/alura-es-cursos/challenge1-data-science/refs/heads/main/base-de-dados-challenge-1/loja_2.csv\"\n",
        "url3 = \"https://raw.githubusercontent.com/alura-es-cursos/challenge1-data-science/refs/heads/main/base-de-dados-challenge-1/loja_3.csv\"\n",
        "url4 = \"https://raw.githubusercontent.com/alura-es-cursos/challenge1-data-science/refs/heads/main/base-de-dados-challenge-1/loja_4.csv\"\n",
        "\n",
        "loja = pd.read_csv(url)\n",
        "loja2 = pd.read_csv(url2)\n",
        "loja3 = pd.read_csv(url3)\n",
        "loja4 = pd.read_csv(url4)\n",
        "\n",
        "loja.head()"
      ]
    },
    {
      "cell_type": "code",
      "source": [],
      "metadata": {
        "id": "l_6tzW2qkRxN"
      },
      "execution_count": null,
      "outputs": []
    },
    {
      "cell_type": "markdown",
      "source": [
        "#1. Análise do faturamento\n"
      ],
      "metadata": {
        "id": "X62IW3KFUIYm"
      }
    },
    {
      "cell_type": "code",
      "source": [
        "#Armazenando as lojas\n",
        "lojas = [loja, loja2, loja3, loja4]\n",
        "#Somando o faturamento de cada loja pela soma da coluna Preço\n",
        "print('Faturamento da Loja 1: ', lojas[0]['Preço'].sum())\n",
        "print('Faturamento da Loja 2: ', lojas[1]['Preço'].sum())\n",
        "print('Faturamento da Loja 3: ', lojas[2]['Preço'].sum())\n",
        "print('Faturamento da Loja 4: ', lojas[3]['Preço'].sum())\n",
        "print('-------------------')\n",
        "print('Loja 1 com maior faturamento total')"
      ],
      "metadata": {
        "id": "xykobSftV64I",
        "colab": {
          "base_uri": "https://localhost:8080/"
        },
        "outputId": "7ff98e09-17e3-420c-fbd7-9d846454a722"
      },
      "execution_count": 5,
      "outputs": [
        {
          "output_type": "stream",
          "name": "stdout",
          "text": [
            "Faturamento da Loja 1:  1534509.12\n",
            "Faturamento da Loja 2:  1488459.06\n",
            "Faturamento da Loja 3:  1464025.03\n",
            "Faturamento da Loja 4:  1384497.58\n",
            "-------------------\n",
            "Loja 1 com maior faturamento total\n"
          ]
        }
      ]
    },
    {
      "cell_type": "code",
      "source": [
        "\n",
        "import pandas as pd\n",
        "import matplotlib.pyplot as plt\n",
        "#vetor para armazenar as colunas do grafico\n",
        "faturamento_lojas = []\n",
        "#adiconando as somas\n",
        "faturamento_lojas.append(lojas[0]['Preço'].sum())\n",
        "faturamento_lojas.append(lojas[1]['Preço'].sum())\n",
        "faturamento_lojas.append(lojas[2]['Preço'].sum())\n",
        "faturamento_lojas.append(lojas[3]['Preço'].sum())\n",
        "\n",
        "#---------------------------------------------------------\n",
        "plt.figure(figsize=(8, 4))\n",
        "plt.bar(['Loja 1', 'Loja 2', 'Loja 3', 'Loja 4'], faturamento_lojas, color=['skyblue', 'coral', 'lightgreen', 'gold'])\n",
        "plt.xlabel('Lojas')\n",
        "plt.ylabel('Faturamento Total (R$)')\n",
        "plt.title('Faturamento Total de Cada Loja')\n",
        "plt.show()"
      ],
      "metadata": {
        "id": "KDyr8E71V3m-",
        "colab": {
          "base_uri": "https://localhost:8080/",
          "height": 171
        },
        "outputId": "67ee56f0-6d02-4695-de2c-347f77b9fb52"
      },
      "execution_count": 7,
      "outputs": [
        {
          "output_type": "display_data",
          "data": {
            "text/plain": [
              "<Figure size 800x400 with 1 Axes>"
            ],
            "image/png": "[encoded data removed]"
          },
          "metadata": {}
        }
      ]
    },
    {
      "cell_type": "markdown",
      "source": [
        "# 2. Vendas por Categoria\n"
      ],
      "metadata": {
        "id": "2V_vcAPzWZmR"
      }
    },
    {
      "cell_type": "code",
      "source": [
        "lojas = [loja, loja2, loja3, loja4]\n",
        "\n",
        "categoriasLoja1 = len(lojas[0]['Categoria do Produto'])\n",
        "categoriasLoja2 = len(lojas[1]['Categoria do Produto'])\n",
        "categoriasLoja3 = len(lojas[2]['Categoria do Produto'])\n",
        "categoriasLoja4 = len(lojas[3]['Categoria do Produto'])\n",
        "\n",
        "def categorias(nCategorias,loja):\n",
        "    brinquedos = 0\n",
        "    moveis = 0\n",
        "    eletronicos = 0\n",
        "    brinquedos = 0\n",
        "    eletrodomesticos = 0\n",
        "    utilidadesDomesticas = 0\n",
        "    esporteELazer = 0\n",
        "    livros = 0\n",
        "    instrumentosMusicais = 0\n",
        "\n",
        "    for i in range(0,nCategorias):\n",
        "      if lojas[loja]['Categoria do Produto'][i] == 'moveis':\n",
        "          moveis = moveis + 1\n",
        "      if lojas[loja]['Categoria do Produto'][i] == 'eletronicos':\n",
        "          eletronicos = eletronicos + 1\n",
        "      if lojas[loja]['Categoria do Produto'][i] == 'eletrodomesticos':\n",
        "          eletrodomesticos = eletrodomesticos + 1\n",
        "      if lojas[loja]['Categoria do Produto'][i] == 'utilidades domesticas':\n",
        "          utilidadesDomesticas = utilidadesDomesticas + 1\n",
        "      if lojas[loja]['Categoria do Produto'][i] == 'esporte e lazer':\n",
        "          esporteELazer =esporteELazer + 1\n",
        "      if lojas[loja]['Categoria do Produto'][i] == 'livros':\n",
        "          livros = livros + 1\n",
        "      if lojas[loja]['Categoria do Produto'][i] == 'brinquedos':\n",
        "          brinquedos = brinquedos + 1\n",
        "      if lojas[loja]['Categoria do Produto'][i] == 'instrumentos musicais':\n",
        "           instrumentosMusicais = instrumentosMusicais + 1\n",
        "    #encontrar qual a categoria mais popular na loja:\n",
        "    maior = moveis\n",
        "    nomeMaior = 'moveis'\n",
        "    if eletronicos > maior:\n",
        "      maior = eletronicos\n",
        "      nomeMaior = 'eletronicos'\n",
        "    if brinquedos > maior:\n",
        "      maior = brinquedos\n",
        "      nomeMaior = 'brinquedos'\n",
        "    if eletrodomesticos > maior:\n",
        "      maior = eletrodomesticos\n",
        "      nomeMaior = 'eletrodomesticos'\n",
        "    if utilidadesDomesticas > maior:\n",
        "      maior = utilidadesDomesticas\n",
        "      nomeMaior = 'utilidades domesticas'\n",
        "    if esporteELazer > maior:\n",
        "      maior = esporteELazer\n",
        "      nomeMaior = 'esporte e lazer'\n",
        "    if livros > maior:\n",
        "      maior = livros\n",
        "      nomeMaior = 'livros'\n",
        "    if instrumentosMusicais > maior:\n",
        "      maior = instrumentosMusicais\n",
        "      nomeMaior = 'instrumentos musicais'\n",
        "    print(f'brinquedos: {brinquedos} moveis : {moveis} livros: {livros}\\neletronicos: {eletronicos} brinquedos : {brinquedos} eletrodomesticos: {eletrodomesticos}')\n",
        "    print(f'esporte e lazer: {esporteELazer} utilidades domesticas: {utilidadesDomesticas} instrumentos musicais :{instrumentosMusicais}')\n",
        "\n",
        "\n",
        "#determinar a categoria mais vendida de cada loja:\n",
        "\n",
        "print( 'Categorias e Quantidades Vendias na Loja 1: ')\n",
        "categorias(categoriasLoja1, 0)\n",
        "print('---------------')\n",
        "print( 'Categorias e Quantidades Vendias na Loja 2: ')\n",
        "categorias(categoriasLoja2, 1)\n",
        "print('---------------')\n",
        "print( 'Categorias e Quantidades Vendias na Loja 3: ')\n",
        "categorias(categoriasLoja3, 2)\n",
        "print('---------------')\n",
        "print( 'Categorias e Quantidades Vendias na Loja 4: ')\n",
        "categorias(categoriasLoja4, 3)"
      ],
      "metadata": {
        "id": "A34YupIuYhfF",
        "colab": {
          "base_uri": "https://localhost:8080/"
        },
        "outputId": "b0457b3d-f5f5-482f-af07-f35b0a0aa42e"
      },
      "execution_count": 15,
      "outputs": [
        {
          "output_type": "stream",
          "name": "stdout",
          "text": [
            "Categorias e Quantidades Vendias na Loja 1: \n",
            "brinquedos: 324 moveis : 465 livros: 173\n",
            "eletronicos: 448 brinquedos : 324 eletrodomesticos: 312\n",
            "esporte e lazer: 284 utilidades domesticas: 171 instrumentos musicais :182\n",
            "---------------\n",
            "Categorias e Quantidades Vendias na Loja 2: \n",
            "brinquedos: 313 moveis : 442 livros: 197\n",
            "eletronicos: 422 brinquedos : 313 eletrodomesticos: 305\n",
            "esporte e lazer: 275 utilidades domesticas: 181 instrumentos musicais :224\n",
            "---------------\n",
            "Categorias e Quantidades Vendias na Loja 3: \n",
            "brinquedos: 315 moveis : 499 livros: 185\n",
            "eletronicos: 451 brinquedos : 315 eletrodomesticos: 278\n",
            "esporte e lazer: 277 utilidades domesticas: 177 instrumentos musicais :177\n",
            "---------------\n",
            "Categorias e Quantidades Vendias na Loja 4: \n",
            "brinquedos: 338 moveis : 480 livros: 187\n",
            "eletronicos: 451 brinquedos : 338 eletrodomesticos: 254\n",
            "esporte e lazer: 277 utilidades domesticas: 201 instrumentos musicais :170\n"
          ]
        }
      ]
    },
    {
      "cell_type": "code",
      "source": [],
      "metadata": {
        "id": "yZR6cOjXYSk1"
      },
      "execution_count": null,
      "outputs": []
    },
    {
      "cell_type": "markdown",
      "source": [
        "# 3. Média de Avaliação das Lojas"
      ],
      "metadata": {
        "id": "Rq6tU_xSY3jk"
      }
    },
    {
      "cell_type": "code",
      "source": [
        "lojas = [loja, loja2, loja3, loja4]\n",
        "def calcularMedia(loja):\n",
        "  soma1 = lojas[loja]['Avaliação da compra'].sum()\n",
        "  media = soma1 / len(lojas[loja]['Avaliação da compra'])\n",
        "  return media\n",
        "media1 = calcularMedia(0)\n",
        "media2 = calcularMedia(1)\n",
        "media3 = calcularMedia(2)\n",
        "media4 = calcularMedia(3)\n",
        "print('-------- média de avaliação das lojas --------')\n",
        "print(f'loja 1: {media1 :.3f}\\nloja 2: {media2 :.3f}\\nloja 3: {media3 :.3f}\\nloja 4: {media4 :.3f}')"
      ],
      "metadata": {
        "id": "bh3jjjJwY5MU",
        "colab": {
          "base_uri": "https://localhost:8080/"
        },
        "outputId": "6af5a11b-e891-43db-c1d0-389afe4a0475"
      },
      "execution_count": 13,
      "outputs": [
        {
          "output_type": "stream",
          "name": "stdout",
          "text": [
            "-------- média de avaliação das lojas --------\n",
            "loja 1: 3.977\n",
            "loja 2: 4.037\n",
            "loja 3: 4.048\n",
            "loja 4: 3.996\n"
          ]
        }
      ]
    },
    {
      "cell_type": "code",
      "source": [
        "print('a loja 3 possui uma maior avaliação média com 4.048')"
      ],
      "metadata": {
        "id": "I0KkjPoTY88F"
      },
      "execution_count": null,
      "outputs": []
    },
    {
      "cell_type": "code",
      "source": [
        "import matplotlib.pyplot as plt\n",
        "medias = {\n",
        "    'Loja 1': media1,\n",
        "    'Loja 2': media2,\n",
        "    'Loja 3': media3,\n",
        "    'Loja 4': media4\n",
        "}\n",
        "\n",
        "labels = medias.keys()\n",
        "sizes = medias.values()\n",
        "\n",
        "# Criando o gráfico de pizza\n",
        "fig, ax = plt.subplots()\n",
        "ax.pie(sizes, labels=labels, autopct='%1.1f%%', startangle=90)\n",
        "ax.axis('equal')\n",
        "plt.title('Avaliações Médias das Lojas')\n",
        "plt.show()"
      ],
      "metadata": {
        "colab": {
          "base_uri": "https://localhost:8080/",
          "height": 234
        },
        "id": "Gf4s4VAIUFqO",
        "outputId": "bdd262ad-3115-4328-b77d-28bbe65e6e9f"
      },
      "execution_count": 14,
      "outputs": [
        {
          "output_type": "display_data",
          "data": {
            "text/plain": [
              "<Figure size 640x480 with 1 Axes>"
            ],
            "image/png": "[encoded data removed]"
          },
          "metadata": {}
        }
      ]
    },
    {
      "cell_type": "markdown",
      "source": [
        "# 4. Produtos Mais e Menos Vendidos"
      ],
      "metadata": {
        "id": "DmNp1KPBZCm-"
      }
    },
    {
      "cell_type": "markdown",
      "source": [
        "Analisando as Vendas por Categoria do Tópico 2\n",
        "\n",
        "Loja 1: moveis(465) e utilidades domésticas (171) foram os mais e menos vendidos\n",
        "\n",
        "Loja 2: eletronicos e moveis(442) foram os mais vendidos e utilidades domésticas (181)foi a menos vendida\n",
        "\n",
        "Loja 3: moveis(499) foram os mais vendidos e utilidades domésticas (177) e instrumentos musicais(177) foram os menos vendidos\n",
        "\n",
        "Loja 4: moveis(480) e instrumentos musicais (170) foram os mais e menos vendidos"
      ],
      "metadata": {
        "id": "bxQwf-GZkYaP"
      }
    },
    {
      "cell_type": "markdown",
      "source": [
        "# 5. Frete Médio por Loja\n"
      ],
      "metadata": {
        "id": "Fl0cGi3bZKqU"
      }
    },
    {
      "cell_type": "code",
      "source": [
        "lojas = [loja, loja2, loja3, loja4]\n",
        "def freteMedia(loja):\n",
        "  soma1 = lojas[loja]['Frete'].sum()\n",
        "  media = soma1 / len(lojas[loja]['Frete'])\n",
        "  return media\n",
        "media1 = freteMedia(0)\n",
        "media2 = freteMedia(1)\n",
        "media3 = freteMedia(2)\n",
        "media4 = freteMedia(3)\n",
        "print(f'Valor médio do frete na loja 1: {media1:.2f} ')\n",
        "print(f'Valor médio do frete na loja 2: {media2:.2f}')\n",
        "print(f'Valor médio do frete na loja 3: {media3:.2f}')\n",
        "print(f'Valor médio do frete na loja 4: {media4:.2f}')"
      ],
      "metadata": {
        "id": "S2JeaCykZNy9",
        "colab": {
          "base_uri": "https://localhost:8080/"
        },
        "outputId": "7784727a-cc41-4ed6-f07a-381d32ad15ad"
      },
      "execution_count": null,
      "outputs": [
        {
          "output_type": "stream",
          "name": "stdout",
          "text": [
            "Valor médio do frete na loja 1: 34.69 \n",
            "Valor médio do frete na loja 2: 33.62\n",
            "Valor médio do frete na loja 3: 33.07\n",
            "Valor médio do frete na loja 4: 31.28\n"
          ]
        }
      ]
    },
    {
      "cell_type": "code",
      "source": [
        "# Ordem do menor ao maior\n",
        "# Loja 4\n",
        "# Loja 3\n",
        "# Loja 2\n",
        "# Loja 1"
      ],
      "metadata": {
        "id": "0tSdCie9ZQlt"
      },
      "execution_count": null,
      "outputs": []
    },
    {
      "cell_type": "markdown",
      "source": [
        "# 6. Relatório de Conclusão"
      ],
      "metadata": {
        "id": "AbNnDjZ4kIW8"
      }
    },
    {
      "cell_type": "markdown",
      "source": [
        "\n",
        "  O objetivo desta análise é orientar o senhor João na escolha da loja mais vantajosa para fazer suas vendas, considerando quatro indicadores fundamentais: faturamento total, de vendas por categoria, custo de frete e avaliação média dos clientes. A partir dos dados coletados, buscaremos identificar qual ponto de venda oferece o melhor equilíbrio entre desempenho comercial, logística e satisfação do consumidor com as compras feitas.\n",
        "\n",
        "Sobre o faturamento, a Loja 1 lidera com R$ 1.534.509,12, seguida de perto pela Loja 2 (R$ 1.488.459,06), Loja 3 (R$ 1.464.025,03) e Loja 4 (R$ 1.384.497,58). Na venda de produtos, as Lojas 1, 3 e 4 concentram suas vendas em móveis, enquanto a Loja 2 apresenta volumes iguais em eletrônicos e móveis. Utilidades domésticas e instrumentos musicais são as categorias menos procuradas em todas as quatro unidades. Quanto ao frete, a ordem do mais barato ao mais caro é Loja 4, Loja 3, Loja 2 e Loja 1, evidenciando vantagem para quem prioriza menores custos de entrega. Por fim, na avaliação média dos clientes, a Loja 3 atinge 4,048 pontos, seguida pela Loja 2 (4,037), Loja 4 (3,996) e Loja 1 (3,977), indicando maior grau de satisfação em seu atendimento e oferta na loja 3.\n",
        "\n",
        "\n",
        "\n",
        "  Com essa análise é possível concluir que, embora a Loja 1 lidere em faturamento (gráfico 1) e as Lojas 1, 3 e 4 tenham forte desempenho em vendas de móveis, seu custo de frete mais alto e avaliação mais baixa a tornam menos atraente.\n",
        "\n",
        "A Loja 2 equilibra uma boa venda de eletrônicos e de móveis com uma boa avaliação, mas seu valor de frete é intermediário.\n",
        "\n",
        "A Loja 4 oferece o frete mais barato, porém o menor faturamento e uma baixa avaliação quando comparada com as lojas 2 e 3\n",
        "\n",
        "A Loja 3 combina faturamento próximo ao topo, segundo frete mais barato e a melhor avaliação de clientes, o que conta bastante. Portanto, a Loja 3 seria a recomendação ideal, pois junta uma boa performance comercial a bons custos e alta satisfação do cliente pelas avaliações."
      ],
      "metadata": {
        "id": "N3EGPtSfkTUr"
      }
    }
  ]
}